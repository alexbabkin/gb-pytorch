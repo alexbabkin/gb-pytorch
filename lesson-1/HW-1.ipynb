{
 "cells": [
  {
   "cell_type": "code",
   "execution_count": 55,
   "metadata": {},
   "outputs": [],
   "source": [
    "import torch\n",
    "from torch.autograd import Variable\n",
    "from torch import nn \n",
    "from torch import optim"
   ]
  },
  {
   "cell_type": "markdown",
   "metadata": {},
   "source": [
    "### Создайте случайный FloatTensor размера 3x4x5"
   ]
  },
  {
   "cell_type": "code",
   "execution_count": 8,
   "metadata": {},
   "outputs": [
    {
     "name": "stdout",
     "output_type": "stream",
     "text": [
      "tensor([[[0.9614, 0.0700, 0.8477, 0.8517, 0.1854],\n",
      "         [0.5971, 0.4860, 0.3074, 0.4125, 0.8558],\n",
      "         [0.2213, 0.1671, 0.3928, 0.5020, 0.4447],\n",
      "         [0.1652, 0.3028, 0.6124, 0.9661, 0.8086]],\n",
      "\n",
      "        [[0.4850, 0.8497, 0.0111, 0.7928, 0.4332],\n",
      "         [0.6473, 0.6739, 0.6805, 0.2909, 0.7262],\n",
      "         [0.9558, 0.9745, 0.7477, 0.5478, 0.4009],\n",
      "         [0.6907, 0.7188, 0.0583, 0.3217, 0.2108]],\n",
      "\n",
      "        [[0.7610, 0.9117, 0.2444, 0.8031, 0.7450],\n",
      "         [0.4009, 0.3815, 0.3338, 0.8264, 0.2289],\n",
      "         [0.3509, 0.0729, 0.0931, 0.2406, 0.4980],\n",
      "         [0.8054, 0.5493, 0.2508, 0.1734, 0.0119]]])\n"
     ]
    }
   ],
   "source": [
    "tensor = torch\\\n",
    "  .rand(3, 4, 5)\\\n",
    "  .type(torch.float32)\n",
    "\n",
    "print(tensor)"
   ]
  },
  {
   "cell_type": "markdown",
   "metadata": {},
   "source": [
    "### Выведите его форму (shape)"
   ]
  },
  {
   "cell_type": "code",
   "execution_count": 9,
   "metadata": {},
   "outputs": [
    {
     "data": {
      "text/plain": [
       "torch.Size([3, 4, 5])"
      ]
     },
     "execution_count": 9,
     "metadata": {},
     "output_type": "execute_result"
    }
   ],
   "source": [
    "tensor.shape"
   ]
  },
  {
   "cell_type": "markdown",
   "metadata": {},
   "source": [
    "### Приведите его к форме 6 X 10"
   ]
  },
  {
   "cell_type": "code",
   "execution_count": 12,
   "metadata": {},
   "outputs": [
    {
     "name": "stdout",
     "output_type": "stream",
     "text": [
      "tensor([[0.9614, 0.0700, 0.8477, 0.8517, 0.1854, 0.5971, 0.4860, 0.3074, 0.4125,\n",
      "         0.8558],\n",
      "        [0.2213, 0.1671, 0.3928, 0.5020, 0.4447, 0.1652, 0.3028, 0.6124, 0.9661,\n",
      "         0.8086],\n",
      "        [0.4850, 0.8497, 0.0111, 0.7928, 0.4332, 0.6473, 0.6739, 0.6805, 0.2909,\n",
      "         0.7262],\n",
      "        [0.9558, 0.9745, 0.7477, 0.5478, 0.4009, 0.6907, 0.7188, 0.0583, 0.3217,\n",
      "         0.2108],\n",
      "        [0.7610, 0.9117, 0.2444, 0.8031, 0.7450, 0.4009, 0.3815, 0.3338, 0.8264,\n",
      "         0.2289],\n",
      "        [0.3509, 0.0729, 0.0931, 0.2406, 0.4980, 0.8054, 0.5493, 0.2508, 0.1734,\n",
      "         0.0119]])\n"
     ]
    }
   ],
   "source": [
    "print(tensor.view(6, 10))"
   ]
  },
  {
   "cell_type": "markdown",
   "metadata": {},
   "source": [
    "### Умножьте его на вектор [1, 4, 2, 2, 1] поэлементно"
   ]
  },
  {
   "cell_type": "code",
   "execution_count": 13,
   "metadata": {},
   "outputs": [
    {
     "data": {
      "text/plain": [
       "tensor([[[0.9614, 0.2799, 1.6954, 1.7033, 0.1854],\n",
       "         [0.5971, 1.9439, 0.6149, 0.8250, 0.8558],\n",
       "         [0.2213, 0.6685, 0.7856, 1.0041, 0.4447],\n",
       "         [0.1652, 1.2113, 1.2248, 1.9322, 0.8086]],\n",
       "\n",
       "        [[0.4850, 3.3987, 0.0221, 1.5856, 0.4332],\n",
       "         [0.6473, 2.6957, 1.3610, 0.5817, 0.7262],\n",
       "         [0.9558, 3.8981, 1.4955, 1.0955, 0.4009],\n",
       "         [0.6907, 2.8753, 0.1165, 0.6434, 0.2108]],\n",
       "\n",
       "        [[0.7610, 3.6470, 0.4888, 1.6062, 0.7450],\n",
       "         [0.4009, 1.5259, 0.6677, 1.6528, 0.2289],\n",
       "         [0.3509, 0.2916, 0.1862, 0.4811, 0.4980],\n",
       "         [0.8054, 2.1971, 0.5016, 0.3467, 0.0119]]], dtype=torch.float64)"
      ]
     },
     "execution_count": 13,
     "metadata": {},
     "output_type": "execute_result"
    }
   ],
   "source": [
    "tensor * torch.DoubleTensor([1, 4, 2, 2, 1])"
   ]
  },
  {
   "cell_type": "markdown",
   "metadata": {},
   "source": [
    "### Умножьте тензор матрично на себя, чтобы результат был размерности 6x6"
   ]
  },
  {
   "cell_type": "code",
   "execution_count": 15,
   "metadata": {},
   "outputs": [
    {
     "name": "stdout",
     "output_type": "stream",
     "text": [
      "tensor([[3.9972, 2.5920, 2.9553, 3.2546, 2.8890, 1.6252],\n",
      "        [2.5920, 2.7621, 2.4402, 1.9700, 2.5209, 1.0987],\n",
      "        [2.9553, 2.4402, 3.7216, 3.1256, 3.2563, 1.7609],\n",
      "        [3.2546, 1.9700, 3.1256, 4.0283, 3.4219, 1.8315],\n",
      "        [2.8890, 2.5209, 3.2563, 3.4219, 3.8232, 1.6826],\n",
      "        [1.6252, 1.0987, 1.7609, 1.8315, 1.6826, 1.4865]])\n"
     ]
    }
   ],
   "source": [
    "tensor_6_10 = tensor.view(6, 10)\n",
    "tensor_6_10_T = torch.transpose(tensor_6_10, 1, 0)\n",
    "\n",
    "result = torch.matmul(tensor_6_10, tensor_6_10_T)\n",
    "\n",
    "print(result)"
   ]
  },
  {
   "cell_type": "markdown",
   "metadata": {},
   "source": [
    "### Посчитайте производную функции y = x**3 + z - 75t в точке (1, 0.5, 2)"
   ]
  },
  {
   "cell_type": "code",
   "execution_count": 19,
   "metadata": {},
   "outputs": [
    {
     "data": {
      "text/plain": [
       "(tensor([3.]), tensor([1.]), tensor([-75.]))"
      ]
     },
     "execution_count": 19,
     "metadata": {},
     "output_type": "execute_result"
    }
   ],
   "source": [
    "x = Variable(torch.FloatTensor([1]),   requires_grad = True)\n",
    "z = Variable(torch.FloatTensor([0.5]), requires_grad = True)\n",
    "t = Variable(torch.FloatTensor([2]),   requires_grad = True)\n",
    "\n",
    "y = x**3 + z -75*t\n",
    "\n",
    "y.backward([x, z, t])\n",
    "\n",
    "(x.grad, z.grad, t.grad)"
   ]
  },
  {
   "cell_type": "markdown",
   "metadata": {},
   "source": [
    "### Создайте единичный тензор размера 5x6"
   ]
  },
  {
   "cell_type": "code",
   "execution_count": 21,
   "metadata": {},
   "outputs": [
    {
     "name": "stdout",
     "output_type": "stream",
     "text": [
      "tensor([[1., 1., 1., 1., 1., 1.],\n",
      "        [1., 1., 1., 1., 1., 1.],\n",
      "        [1., 1., 1., 1., 1., 1.],\n",
      "        [1., 1., 1., 1., 1., 1.],\n",
      "        [1., 1., 1., 1., 1., 1.]])\n"
     ]
    }
   ],
   "source": [
    "ones_tensor = torch.ones((5, 6))\n",
    "\n",
    "print(ones_tensor)"
   ]
  },
  {
   "cell_type": "markdown",
   "metadata": {},
   "source": [
    "### Переведите его в формат numpy"
   ]
  },
  {
   "cell_type": "code",
   "execution_count": 23,
   "metadata": {},
   "outputs": [
    {
     "name": "stdout",
     "output_type": "stream",
     "text": [
      "[[1. 1. 1. 1. 1. 1.]\n",
      " [1. 1. 1. 1. 1. 1.]\n",
      " [1. 1. 1. 1. 1. 1.]\n",
      " [1. 1. 1. 1. 1. 1.]\n",
      " [1. 1. 1. 1. 1. 1.]]\n"
     ]
    }
   ],
   "source": [
    "print(ones_tensor.numpy())"
   ]
  },
  {
   "cell_type": "markdown",
   "metadata": {},
   "source": [
    "### Давайте теперь пооптимизируем: возьмите функцию y = x\\**w1 - 2 * x\\**2 + 5"
   ]
  },
  {
   "cell_type": "code",
   "execution_count": 80,
   "metadata": {},
   "outputs": [],
   "source": [
    "x = torch.FloatTensor([1])\n",
    "w1 = Variable(torch.FloatTensor([1]), requires_grad=True)\n",
    "\n",
    "y = x**w1 - 2*x**2 + 5"
   ]
  },
  {
   "cell_type": "code",
   "execution_count": 81,
   "metadata": {},
   "outputs": [],
   "source": [
    "crit = nn.MSELoss()\n",
    "optimizer = optim.SGD([w1], lr=0.001)"
   ]
  },
  {
   "cell_type": "code",
   "execution_count": 82,
   "metadata": {},
   "outputs": [],
   "source": [
    "w1 = nn.Linear(1, 1, bias=False)"
   ]
  },
  {
   "cell_type": "code",
   "execution_count": 83,
   "metadata": {},
   "outputs": [
    {
     "name": "stdout",
     "output_type": "stream",
     "text": [
      "tensor(2363.1355, grad_fn=<MseLossBackward>)\n"
     ]
    }
   ],
   "source": [
    "optimizer.zero_grad()\n",
    "x = torch.FloatTensor([5])\n",
    "\n",
    "pred = x ** w1(torch.FloatTensor([1])) -2 * x**2 + 5\n",
    "loss = criterion(pred, y)\n",
    "print(loss)"
   ]
  },
  {
   "cell_type": "code",
   "execution_count": 84,
   "metadata": {},
   "outputs": [],
   "source": [
    "loss.backward()\n",
    "optimizer.step()"
   ]
  },
  {
   "cell_type": "code",
   "execution_count": 86,
   "metadata": {},
   "outputs": [
    {
     "name": "stdout",
     "output_type": "stream",
     "text": [
      "tensor([-44.6121], grad_fn=<AddBackward0>)\n"
     ]
    }
   ],
   "source": [
    "print(pred)"
   ]
  },
  {
   "cell_type": "code",
   "execution_count": 87,
   "metadata": {},
   "outputs": [
    {
     "name": "stdout",
     "output_type": "stream",
     "text": [
      "Linear(in_features=1, out_features=1, bias=False)\n",
      "tensor([[-60.6988]])\n"
     ]
    }
   ],
   "source": [
    "print(w1)\n",
    "print(w1.weight.grad)"
   ]
  }
 ],
 "metadata": {
  "kernelspec": {
   "display_name": "Python 3",
   "language": "python",
   "name": "python3"
  },
  "language_info": {
   "codemirror_mode": {
    "name": "ipython",
    "version": 3
   },
   "file_extension": ".py",
   "mimetype": "text/x-python",
   "name": "python",
   "nbconvert_exporter": "python",
   "pygments_lexer": "ipython3",
   "version": "3.8.8"
  }
 },
 "nbformat": 4,
 "nbformat_minor": 2
}
