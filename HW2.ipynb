{
 "cells": [
  {
   "cell_type": "markdown",
   "metadata": {},
   "source": [
    "# Feed-forward сети"
   ]
  },
  {
   "cell_type": "code",
   "execution_count": 1,
   "metadata": {},
   "outputs": [],
   "source": [
    "import os\n",
    "os.chdir(\"./GB-Pytorch\")"
   ]
  },
  {
   "cell_type": "code",
   "execution_count": 2,
   "metadata": {},
   "outputs": [],
   "source": [
    "import torch\n",
    "import torchvision\n",
    "import torchvision.transforms as transforms\n",
    "import torch.nn as nn\n",
    "import torch.nn.functional as F\n",
    "from tqdm import tqdm"
   ]
  },
  {
   "cell_type": "code",
   "execution_count": 3,
   "metadata": {},
   "outputs": [],
   "source": [
    "transform = transforms.Compose([transforms.ToTensor(),\n",
    "                                transforms.Normalize((0.5, 0.5, 0.5),\n",
    "                                                     (0.5, 0.5, 0.5))\n",
    "                              ])\n",
    "BATCH_SIZE = 10"
   ]
  },
  {
   "cell_type": "code",
   "execution_count": 4,
   "metadata": {},
   "outputs": [
    {
     "name": "stdout",
     "output_type": "stream",
     "text": [
      "Files already downloaded and verified\n"
     ]
    }
   ],
   "source": [
    "train_set = torchvision.datasets.CIFAR100(\n",
    "    root='./data', train=True, download=True, transform=transform)\n",
    "train_loader = torch.utils.data.DataLoader(\n",
    "    train_set, batch_size=BATCH_SIZE, shuffle=True, num_workers=2)"
   ]
  },
  {
   "cell_type": "code",
   "execution_count": 5,
   "metadata": {},
   "outputs": [
    {
     "name": "stdout",
     "output_type": "stream",
     "text": [
      "Files already downloaded and verified\n"
     ]
    }
   ],
   "source": [
    "test_set = torchvision.datasets.CIFAR100(\n",
    "    root='./data', train=False, download=True, transform=transform)\n",
    "test_loader = torch.utils.data.DataLoader(\n",
    "    test_set, batch_size=BATCH_SIZE, shuffle=False, num_workers=2)"
   ]
  },
  {
   "cell_type": "code",
   "execution_count": 6,
   "metadata": {},
   "outputs": [],
   "source": [
    "classes = ('plane', 'car', 'bird', 'cat',\n",
    "           'deer', 'dog', 'frog', 'horse', 'ship', 'truck')"
   ]
  },
  {
   "cell_type": "code",
   "execution_count": 7,
   "metadata": {},
   "outputs": [],
   "source": [
    "class CustomLeakyRelu(nn.Module):\n",
    "    def __init__(self, border, alpha):\n",
    "        super().__init__()\n",
    "        self.border = border\n",
    "        self.alpha = alpha\n",
    "\n",
    "    def forward(self, input):\n",
    "        x = F.leaky_relu(input)\n",
    "        return torch.where(x > self.border, x*self.alpha, x)"
   ]
  },
  {
   "cell_type": "code",
   "execution_count": 8,
   "metadata": {},
   "outputs": [],
   "source": [
    "class FFNetwork(nn.Module):\n",
    "    def __init__(self):\n",
    "        super().__init__()\n",
    "        img_vector_size = 3072\n",
    "        self.fc1 = nn.Linear(img_vector_size, 128)\n",
    "        self.fc2 = nn.Linear(128, 64)\n",
    "        self.fc3 = nn.Linear(64, 100)\n",
    "        self.cust_relu = CustomLeakyRelu(0.1, 0.5)\n",
    "\n",
    "    def forward(self, x):\n",
    "        x = x.view(x.shape[0], -1)\n",
    "        x = self.cust_relu(self.fc1(x))\n",
    "        x = F.relu(self.fc2(x))\n",
    "        x = self.fc3(x)\n",
    "        return x\n",
    "\n",
    "    def predict(self, x):\n",
    "        x = x.view(x.shape[0], -1)\n",
    "\n",
    "        x = self.cust_relu(self.fc1(x))\n",
    "        x = F.relu(self.fc2(x))\n",
    "        x = F.softmax(self.fc3(x))\n",
    "        return x"
   ]
  },
  {
   "cell_type": "code",
   "execution_count": 9,
   "metadata": {},
   "outputs": [],
   "source": [
    "ff_network = FFNetwork()\n",
    "criterion = nn.CrossEntropyLoss()\n",
    "optimizer = torch.optim.Adam(ff_network.parameters(), lr=0.001)"
   ]
  },
  {
   "cell_type": "code",
   "execution_count": 18,
   "metadata": {},
   "outputs": [
    {
     "name": "stdout",
     "output_type": "stream",
     "text": [
      "Epoch: 1, loss: 0.3145322729802132\n",
      "Epoch: 2, loss: 0.30961189719200133\n",
      "Epoch: 3, loss: 0.30552163642168045\n",
      "Epoch: 4, loss: 0.30142009315013885\n",
      "Epoch: 5, loss: 0.29818970482587814\n",
      "Epoch: 6, loss: 0.2947867235565186\n",
      "Epoch: 7, loss: 0.29189574337482455\n",
      "Epoch: 8, loss: 0.2884645274114609\n",
      "Epoch: 9, loss: 0.2855368833374977\n",
      "Epoch: 10, loss: 0.2836717459464073\n",
      "Epoch: 11, loss: 0.28131931375265123\n",
      "Epoch: 12, loss: 0.27899888825654984\n",
      "Epoch: 13, loss: 0.27651047065019607\n",
      "Epoch: 14, loss: 0.27503158229589464\n",
      "Epoch: 15, loss: 0.27246819865345956\n",
      "Epoch: 16, loss: 0.27179698873281477\n",
      "Epoch: 17, loss: 0.26979806173563003\n",
      "Epoch: 18, loss: 0.267943428299427\n",
      "Epoch: 19, loss: 0.2664293702864647\n",
      "Epoch: 20, loss: 0.265063032143116\n"
     ]
    }
   ],
   "source": [
    "EPOCHS = 20\n",
    "ff_network.train()\n",
    "\n",
    "for epoch in range(EPOCHS):\n",
    "    loss_value = 0\n",
    "    for batch_index, (images, labels) in enumerate(train_loader):\n",
    "        optimizer.zero_grad()\n",
    "\n",
    "        pred = ff_network(images)\n",
    "\n",
    "        loss = criterion(pred, labels)\n",
    "        loss_value += loss.item()\n",
    "\n",
    "        loss.backward()\n",
    "        optimizer.step()\n",
    "\n",
    "    loss_value = loss_value / len(train_loader.dataset)\n",
    "    print(f'Epoch: {epoch + 1}, loss: {loss_value}')\n"
   ]
  },
  {
   "cell_type": "code",
   "execution_count": null,
   "metadata": {},
   "outputs": [],
   "source": []
  }
 ],
 "metadata": {
  "kernelspec": {
   "display_name": "Python 3",
   "language": "python",
   "name": "python3"
  },
  "language_info": {
   "codemirror_mode": {
    "name": "ipython",
    "version": 3
   },
   "file_extension": ".py",
   "mimetype": "text/x-python",
   "name": "python",
   "nbconvert_exporter": "python",
   "pygments_lexer": "ipython3",
   "version": "3.8.8"
  },
  "orig_nbformat": 4
 },
 "nbformat": 4,
 "nbformat_minor": 2
}
