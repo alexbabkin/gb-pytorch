{
 "cells": [
  {
   "cell_type": "code",
   "execution_count": 1,
   "id": "cba00717",
   "metadata": {},
   "outputs": [],
   "source": [
    "import numpy as np\n",
    "import pandas as pd\n",
    "import warnings\n",
    "import matplotlib.pyplot as plt\n",
    "import seaborn as sns\n",
    "\n",
    "import torch\n",
    "import torch.nn.functional as F\n",
    "from torch import nn\n",
    "from torch import optim\n",
    "\n",
    "import torchvision\n",
    "import torchvision.transforms as transforms\n",
    "\n",
    "from tqdm import tqdm_notebook\n",
    "\n",
    "from sklearn.model_selection import train_test_split\n",
    "from sklearn.preprocessing import MinMaxScaler"
   ]
  },
  {
   "cell_type": "code",
   "execution_count": 6,
   "id": "cf38dfb7",
   "metadata": {},
   "outputs": [
    {
     "data": {
      "text/html": [
       "<div>\n",
       "<style scoped>\n",
       "    .dataframe tbody tr th:only-of-type {\n",
       "        vertical-align: middle;\n",
       "    }\n",
       "\n",
       "    .dataframe tbody tr th {\n",
       "        vertical-align: top;\n",
       "    }\n",
       "\n",
       "    .dataframe thead th {\n",
       "        text-align: right;\n",
       "    }\n",
       "</style>\n",
       "<table border=\"1\" class=\"dataframe\">\n",
       "  <thead>\n",
       "    <tr style=\"text-align: right;\">\n",
       "      <th></th>\n",
       "      <th>item_id</th>\n",
       "      <th>user_id</th>\n",
       "      <th>region</th>\n",
       "      <th>city</th>\n",
       "      <th>parent_category_name</th>\n",
       "      <th>category_name</th>\n",
       "      <th>param_1</th>\n",
       "      <th>param_2</th>\n",
       "      <th>param_3</th>\n",
       "      <th>title</th>\n",
       "      <th>description</th>\n",
       "      <th>price</th>\n",
       "      <th>item_seq_number</th>\n",
       "      <th>activation_date</th>\n",
       "      <th>user_type</th>\n",
       "      <th>image</th>\n",
       "      <th>image_top_1</th>\n",
       "      <th>deal_probability</th>\n",
       "    </tr>\n",
       "  </thead>\n",
       "  <tbody>\n",
       "    <tr>\n",
       "      <th>0</th>\n",
       "      <td>b912c3c6a6ad</td>\n",
       "      <td>e00f8ff2eaf9</td>\n",
       "      <td>Свердловская область</td>\n",
       "      <td>Екатеринбург</td>\n",
       "      <td>Личные вещи</td>\n",
       "      <td>Товары для детей и игрушки</td>\n",
       "      <td>Постельные принадлежности</td>\n",
       "      <td>NaN</td>\n",
       "      <td>NaN</td>\n",
       "      <td>Кокоби(кокон для сна)</td>\n",
       "      <td>Кокон для сна малыша,пользовались меньше месяц...</td>\n",
       "      <td>400.0</td>\n",
       "      <td>2</td>\n",
       "      <td>2017-03-28</td>\n",
       "      <td>Private</td>\n",
       "      <td>d10c7e016e03247a3bf2d13348fe959fe6f436c1caf64c...</td>\n",
       "      <td>1008.0</td>\n",
       "      <td>0.12789</td>\n",
       "    </tr>\n",
       "    <tr>\n",
       "      <th>1</th>\n",
       "      <td>2dac0150717d</td>\n",
       "      <td>39aeb48f0017</td>\n",
       "      <td>Самарская область</td>\n",
       "      <td>Самара</td>\n",
       "      <td>Для дома и дачи</td>\n",
       "      <td>Мебель и интерьер</td>\n",
       "      <td>Другое</td>\n",
       "      <td>NaN</td>\n",
       "      <td>NaN</td>\n",
       "      <td>Стойка для Одежды</td>\n",
       "      <td>Стойка для одежды, под вешалки. С бутика.</td>\n",
       "      <td>3000.0</td>\n",
       "      <td>19</td>\n",
       "      <td>2017-03-26</td>\n",
       "      <td>Private</td>\n",
       "      <td>79c9392cc51a9c81c6eb91eceb8e552171db39d7142700...</td>\n",
       "      <td>692.0</td>\n",
       "      <td>0.00000</td>\n",
       "    </tr>\n",
       "    <tr>\n",
       "      <th>2</th>\n",
       "      <td>ba83aefab5dc</td>\n",
       "      <td>91e2f88dd6e3</td>\n",
       "      <td>Ростовская область</td>\n",
       "      <td>Ростов-на-Дону</td>\n",
       "      <td>Бытовая электроника</td>\n",
       "      <td>Аудио и видео</td>\n",
       "      <td>Видео, DVD и Blu-ray плееры</td>\n",
       "      <td>NaN</td>\n",
       "      <td>NaN</td>\n",
       "      <td>Philips bluray</td>\n",
       "      <td>В хорошем состоянии, домашний кинотеатр с blu ...</td>\n",
       "      <td>4000.0</td>\n",
       "      <td>9</td>\n",
       "      <td>2017-03-20</td>\n",
       "      <td>Private</td>\n",
       "      <td>b7f250ee3f39e1fedd77c141f273703f4a9be59db4b48a...</td>\n",
       "      <td>3032.0</td>\n",
       "      <td>0.43177</td>\n",
       "    </tr>\n",
       "    <tr>\n",
       "      <th>3</th>\n",
       "      <td>02996f1dd2ea</td>\n",
       "      <td>bf5cccea572d</td>\n",
       "      <td>Татарстан</td>\n",
       "      <td>Набережные Челны</td>\n",
       "      <td>Личные вещи</td>\n",
       "      <td>Товары для детей и игрушки</td>\n",
       "      <td>Автомобильные кресла</td>\n",
       "      <td>NaN</td>\n",
       "      <td>NaN</td>\n",
       "      <td>Автокресло</td>\n",
       "      <td>Продам кресло от0-25кг</td>\n",
       "      <td>2200.0</td>\n",
       "      <td>286</td>\n",
       "      <td>2017-03-25</td>\n",
       "      <td>Company</td>\n",
       "      <td>e6ef97e0725637ea84e3d203e82dadb43ed3cc0a1c8413...</td>\n",
       "      <td>796.0</td>\n",
       "      <td>0.80323</td>\n",
       "    </tr>\n",
       "    <tr>\n",
       "      <th>4</th>\n",
       "      <td>7c90be56d2ab</td>\n",
       "      <td>ef50846afc0b</td>\n",
       "      <td>Волгоградская область</td>\n",
       "      <td>Волгоград</td>\n",
       "      <td>Транспорт</td>\n",
       "      <td>Автомобили</td>\n",
       "      <td>С пробегом</td>\n",
       "      <td>ВАЗ (LADA)</td>\n",
       "      <td>2110</td>\n",
       "      <td>ВАЗ 2110, 2003</td>\n",
       "      <td>Все вопросы по телефону.</td>\n",
       "      <td>40000.0</td>\n",
       "      <td>3</td>\n",
       "      <td>2017-03-16</td>\n",
       "      <td>Private</td>\n",
       "      <td>54a687a3a0fc1d68aed99bdaaf551c5c70b761b16fd0a2...</td>\n",
       "      <td>2264.0</td>\n",
       "      <td>0.20797</td>\n",
       "    </tr>\n",
       "  </tbody>\n",
       "</table>\n",
       "</div>"
      ],
      "text/plain": [
       "        item_id       user_id                 region              city  \\\n",
       "0  b912c3c6a6ad  e00f8ff2eaf9   Свердловская область      Екатеринбург   \n",
       "1  2dac0150717d  39aeb48f0017      Самарская область            Самара   \n",
       "2  ba83aefab5dc  91e2f88dd6e3     Ростовская область    Ростов-на-Дону   \n",
       "3  02996f1dd2ea  bf5cccea572d              Татарстан  Набережные Челны   \n",
       "4  7c90be56d2ab  ef50846afc0b  Волгоградская область         Волгоград   \n",
       "\n",
       "  parent_category_name               category_name  \\\n",
       "0          Личные вещи  Товары для детей и игрушки   \n",
       "1      Для дома и дачи           Мебель и интерьер   \n",
       "2  Бытовая электроника               Аудио и видео   \n",
       "3          Личные вещи  Товары для детей и игрушки   \n",
       "4            Транспорт                  Автомобили   \n",
       "\n",
       "                       param_1     param_2 param_3                  title  \\\n",
       "0    Постельные принадлежности         NaN     NaN  Кокоби(кокон для сна)   \n",
       "1                       Другое         NaN     NaN      Стойка для Одежды   \n",
       "2  Видео, DVD и Blu-ray плееры         NaN     NaN         Philips bluray   \n",
       "3         Автомобильные кресла         NaN     NaN             Автокресло   \n",
       "4                   С пробегом  ВАЗ (LADA)    2110         ВАЗ 2110, 2003   \n",
       "\n",
       "                                         description    price  \\\n",
       "0  Кокон для сна малыша,пользовались меньше месяц...    400.0   \n",
       "1          Стойка для одежды, под вешалки. С бутика.   3000.0   \n",
       "2  В хорошем состоянии, домашний кинотеатр с blu ...   4000.0   \n",
       "3                             Продам кресло от0-25кг   2200.0   \n",
       "4                           Все вопросы по телефону.  40000.0   \n",
       "\n",
       "   item_seq_number activation_date user_type  \\\n",
       "0                2      2017-03-28   Private   \n",
       "1               19      2017-03-26   Private   \n",
       "2                9      2017-03-20   Private   \n",
       "3              286      2017-03-25   Company   \n",
       "4                3      2017-03-16   Private   \n",
       "\n",
       "                                               image  image_top_1  \\\n",
       "0  d10c7e016e03247a3bf2d13348fe959fe6f436c1caf64c...       1008.0   \n",
       "1  79c9392cc51a9c81c6eb91eceb8e552171db39d7142700...        692.0   \n",
       "2  b7f250ee3f39e1fedd77c141f273703f4a9be59db4b48a...       3032.0   \n",
       "3  e6ef97e0725637ea84e3d203e82dadb43ed3cc0a1c8413...        796.0   \n",
       "4  54a687a3a0fc1d68aed99bdaaf551c5c70b761b16fd0a2...       2264.0   \n",
       "\n",
       "   deal_probability  \n",
       "0           0.12789  \n",
       "1           0.00000  \n",
       "2           0.43177  \n",
       "3           0.80323  \n",
       "4           0.20797  "
      ]
     },
     "execution_count": 6,
     "metadata": {},
     "output_type": "execute_result"
    }
   ],
   "source": [
    "train = pd.read_csv('./data/train.csv')\n",
    "train.head()"
   ]
  },
  {
   "cell_type": "markdown",
   "id": "2929b5bd",
   "metadata": {},
   "source": [
    "### Preprocessing"
   ]
  },
  {
   "cell_type": "code",
   "execution_count": 7,
   "id": "8d5c21e5",
   "metadata": {},
   "outputs": [
    {
     "name": "stderr",
     "output_type": "stream",
     "text": [
      "<ipython-input-7-0471749c46ce>:8: TqdmDeprecationWarning: This function will be removed in tqdm==5.0.0\n",
      "Please use `tqdm.notebook.tqdm` instead of `tqdm.tqdm_notebook`\n",
      "  for col in tqdm_notebook(cols):\n"
     ]
    },
    {
     "data": {
      "application/vnd.jupyter.widget-view+json": {
       "model_id": "bef3e0572dd44419ab40393a4a1bf293",
       "version_major": 2,
       "version_minor": 0
      },
      "text/plain": [
       "  0%|          | 0/4 [00:00<?, ?it/s]"
      ]
     },
     "metadata": {},
     "output_type": "display_data"
    },
    {
     "name": "stdout",
     "output_type": "stream",
     "text": [
      "<class 'pandas.core.frame.DataFrame'>\n",
      "RangeIndex: 1503424 entries, 0 to 1503423\n",
      "Data columns (total 10 columns):\n",
      " #   Column                              Non-Null Count    Dtype  \n",
      "---  ------                              --------------    -----  \n",
      " 0   price                               1503424 non-null  float64\n",
      " 1   item_seq_number                     1503424 non-null  int64  \n",
      " 2   image_top_1                         1503424 non-null  float64\n",
      " 3   deal_probability                    1503424 non-null  float64\n",
      " 4   day_of_month                        1503424 non-null  int64  \n",
      " 5   day_of_week                         1503424 non-null  int64  \n",
      " 6   region_deal_probability_avg         1503424 non-null  float64\n",
      " 7   category_name_deal_probability_avg  1503424 non-null  float64\n",
      " 8   city_deal_probability_avg           1503424 non-null  float64\n",
      " 9   user_type_deal_probability_avg      1503424 non-null  float64\n",
      "dtypes: float64(7), int64(3)\n",
      "memory usage: 114.7 MB\n"
     ]
    }
   ],
   "source": [
    "train['activation_date'] = pd.to_datetime(train.activation_date)\n",
    "train['day_of_month'] = train.activation_date.apply(lambda x: x.day)\n",
    "train['day_of_week'] = train.activation_date.apply(lambda x: x.weekday())\n",
    "\n",
    "\n",
    "cols = ['region', 'category_name','city', 'user_type']\n",
    "\n",
    "for col in tqdm_notebook(cols):\n",
    "    gp = train.groupby(col)['deal_probability']\n",
    "    mean = gp.mean()\n",
    "    train[col + '_deal_probability_avg'] = train[col].map(mean)\n",
    "    \n",
    "\n",
    "\n",
    "train = train.drop(['city', 'category_name', 'user_id', 'description',\n",
    "                    'image', 'parent_category_name', 'region',\n",
    "                    'item_id', 'param_1', 'param_2', 'param_3',\n",
    "                    'title', 'user_type', 'activation_date'], axis=1)\n",
    "\n",
    "for col in train.columns:\n",
    "    if train[col].isna().sum() > 0:\n",
    "        train[col].fillna(train[col].median(), inplace=True)\n",
    "\n",
    "\n",
    "train.info()"
   ]
  },
  {
   "cell_type": "code",
   "execution_count": 8,
   "id": "2dbbd4fd",
   "metadata": {},
   "outputs": [
    {
     "data": {
      "text/html": [
       "<div>\n",
       "<style scoped>\n",
       "    .dataframe tbody tr th:only-of-type {\n",
       "        vertical-align: middle;\n",
       "    }\n",
       "\n",
       "    .dataframe tbody tr th {\n",
       "        vertical-align: top;\n",
       "    }\n",
       "\n",
       "    .dataframe thead th {\n",
       "        text-align: right;\n",
       "    }\n",
       "</style>\n",
       "<table border=\"1\" class=\"dataframe\">\n",
       "  <thead>\n",
       "    <tr style=\"text-align: right;\">\n",
       "      <th></th>\n",
       "      <th>price</th>\n",
       "      <th>item_seq_number</th>\n",
       "      <th>image_top_1</th>\n",
       "      <th>deal_probability</th>\n",
       "      <th>day_of_month</th>\n",
       "      <th>day_of_week</th>\n",
       "      <th>region_deal_probability_avg</th>\n",
       "      <th>category_name_deal_probability_avg</th>\n",
       "      <th>city_deal_probability_avg</th>\n",
       "      <th>user_type_deal_probability_avg</th>\n",
       "    </tr>\n",
       "  </thead>\n",
       "  <tbody>\n",
       "    <tr>\n",
       "      <th>0</th>\n",
       "      <td>400.0</td>\n",
       "      <td>2</td>\n",
       "      <td>1008.0</td>\n",
       "      <td>0.12789</td>\n",
       "      <td>28</td>\n",
       "      <td>1</td>\n",
       "      <td>0.122004</td>\n",
       "      <td>0.198445</td>\n",
       "      <td>0.123397</td>\n",
       "      <td>0.149557</td>\n",
       "    </tr>\n",
       "    <tr>\n",
       "      <th>1</th>\n",
       "      <td>3000.0</td>\n",
       "      <td>19</td>\n",
       "      <td>692.0</td>\n",
       "      <td>0.00000</td>\n",
       "      <td>26</td>\n",
       "      <td>6</td>\n",
       "      <td>0.136721</td>\n",
       "      <td>0.191848</td>\n",
       "      <td>0.139400</td>\n",
       "      <td>0.149557</td>\n",
       "    </tr>\n",
       "    <tr>\n",
       "      <th>2</th>\n",
       "      <td>4000.0</td>\n",
       "      <td>9</td>\n",
       "      <td>3032.0</td>\n",
       "      <td>0.43177</td>\n",
       "      <td>20</td>\n",
       "      <td>0</td>\n",
       "      <td>0.135944</td>\n",
       "      <td>0.171572</td>\n",
       "      <td>0.124881</td>\n",
       "      <td>0.149557</td>\n",
       "    </tr>\n",
       "    <tr>\n",
       "      <th>3</th>\n",
       "      <td>2200.0</td>\n",
       "      <td>286</td>\n",
       "      <td>796.0</td>\n",
       "      <td>0.80323</td>\n",
       "      <td>25</td>\n",
       "      <td>5</td>\n",
       "      <td>0.142602</td>\n",
       "      <td>0.198445</td>\n",
       "      <td>0.135031</td>\n",
       "      <td>0.124513</td>\n",
       "    </tr>\n",
       "    <tr>\n",
       "      <th>4</th>\n",
       "      <td>40000.0</td>\n",
       "      <td>3</td>\n",
       "      <td>2264.0</td>\n",
       "      <td>0.20797</td>\n",
       "      <td>16</td>\n",
       "      <td>3</td>\n",
       "      <td>0.145908</td>\n",
       "      <td>0.278427</td>\n",
       "      <td>0.137275</td>\n",
       "      <td>0.149557</td>\n",
       "    </tr>\n",
       "  </tbody>\n",
       "</table>\n",
       "</div>"
      ],
      "text/plain": [
       "     price  item_seq_number  image_top_1  deal_probability  day_of_month  \\\n",
       "0    400.0                2       1008.0           0.12789            28   \n",
       "1   3000.0               19        692.0           0.00000            26   \n",
       "2   4000.0                9       3032.0           0.43177            20   \n",
       "3   2200.0              286        796.0           0.80323            25   \n",
       "4  40000.0                3       2264.0           0.20797            16   \n",
       "\n",
       "   day_of_week  region_deal_probability_avg  \\\n",
       "0            1                     0.122004   \n",
       "1            6                     0.136721   \n",
       "2            0                     0.135944   \n",
       "3            5                     0.142602   \n",
       "4            3                     0.145908   \n",
       "\n",
       "   category_name_deal_probability_avg  city_deal_probability_avg  \\\n",
       "0                            0.198445                   0.123397   \n",
       "1                            0.191848                   0.139400   \n",
       "2                            0.171572                   0.124881   \n",
       "3                            0.198445                   0.135031   \n",
       "4                            0.278427                   0.137275   \n",
       "\n",
       "   user_type_deal_probability_avg  \n",
       "0                        0.149557  \n",
       "1                        0.149557  \n",
       "2                        0.149557  \n",
       "3                        0.124513  \n",
       "4                        0.149557  "
      ]
     },
     "execution_count": 8,
     "metadata": {},
     "output_type": "execute_result"
    }
   ],
   "source": [
    "train.head()"
   ]
  },
  {
   "cell_type": "code",
   "execution_count": 9,
   "id": "f389b008",
   "metadata": {},
   "outputs": [],
   "source": [
    "train, test = train_test_split(train, test_size=0.25, random_state=42)"
   ]
  },
  {
   "cell_type": "markdown",
   "id": "9eff107d",
   "metadata": {},
   "source": [
    "### Создать Dataset для загрузки данных"
   ]
  },
  {
   "cell_type": "code",
   "execution_count": 10,
   "id": "30cf88e4",
   "metadata": {},
   "outputs": [],
   "source": [
    "class MyDataset(torch.utils.data.Dataset):\n",
    "    def __init__(self, df, normalize=False, fit_scaler=False):\n",
    "        self.df = df.copy()\n",
    "        self.normalize = normalize\n",
    "        self.scaler = MinMaxScaler()\n",
    "        self.fit_scaler = fit_scaler\n",
    "        self.sc_fl = 0\n",
    "\n",
    "    def __len__(self):\n",
    "        return len(self.df)\n",
    "\n",
    "    def __getitem__(self, idx):\n",
    "        label = self.df.iloc[idx, -1:]\n",
    "        if self.fit_scaler:\n",
    "            self.scaler.fit(df.iloc[:, :-1])\n",
    "            self.sc_fl = 1\n",
    "\n",
    "        if self.normalize and sc_fl:\n",
    "            df = scaler.transform(df)\n",
    "\n",
    "        tensor = torch.FloatTensor(self.df.iloc[idx, 1:-1].values)\n",
    "        label = torch.FloatTensor(label.values)\n",
    "\n",
    "        return tensor, label"
   ]
  },
  {
   "cell_type": "code",
   "execution_count": 12,
   "id": "4175234d",
   "metadata": {},
   "outputs": [],
   "source": [
    "df_train, df_test = MyDataset(train), MyDataset(test)"
   ]
  },
  {
   "cell_type": "markdown",
   "id": "b9ce9e06",
   "metadata": {},
   "source": [
    "### Обернуть его в Dataloader"
   ]
  },
  {
   "cell_type": "code",
   "execution_count": 17,
   "id": "9cee4b81",
   "metadata": {},
   "outputs": [],
   "source": [
    "BATCH_SIZE = 1024"
   ]
  },
  {
   "cell_type": "code",
   "execution_count": 14,
   "id": "db21e926",
   "metadata": {},
   "outputs": [],
   "source": [
    "train_loader = torch.utils.data.DataLoader(df_train,\n",
    "                                           batch_size=BATCH_SIZE,\n",
    "                                           shuffle=True,\n",
    "                                           num_workers=3)\n",
    "\n",
    "test_loader = torch.utils.data.DataLoader(df_test,\n",
    "                                          batch_size=BATCH_SIZE,\n",
    "                                          shuffle=True,\n",
    "                                          num_workers=3)"
   ]
  },
  {
   "cell_type": "markdown",
   "id": "bcaadb39",
   "metadata": {},
   "source": [
    "### Написать архитектуру сети, которая предсказывает число показов на основании числовых данных. Сеть должна включать BatchNorm слои и Dropout"
   ]
  },
  {
   "cell_type": "code",
   "execution_count": 27,
   "id": "d8776bdd",
   "metadata": {},
   "outputs": [],
   "source": [
    "class FFNetwork(nn.Module):\n",
    "    def __init__(self, input_dim, hidden_dim):\n",
    "        super(FFNetwork, self).__init__()\n",
    "        \n",
    "        self.bn1 = nn.BatchNorm1d(input_dim)\n",
    "        self.fc1 = nn.Linear(input_dim, 5*hidden_dim)\n",
    "        self.dp1 = nn.Dropout(0.25)\n",
    "\n",
    "        self.bn2 = nn.BatchNorm1d(5*hidden_dim)\n",
    "        self.fc2 = nn.Linear(5*hidden_dim, 2*hidden_dim)\n",
    "        self.dp2 = nn.Dropout(0.15)\n",
    "\n",
    "        self.bn4 = nn.BatchNorm1d(2*hidden_dim)\n",
    "        self.fc4 = nn.Linear(2*hidden_dim, 1)\n",
    "\n",
    "    def forward(self, x):\n",
    "        x = self.bn1(x)\n",
    "        x = self.fc1(x)\n",
    "        x = F.tanh(x)\n",
    "        x = self.dp1(x)\n",
    "\n",
    "        x = self.bn2(x)\n",
    "        x = self.fc2(x)\n",
    "        x = F.tanh(x)\n",
    "        x = self.dp2(x)\n",
    "\n",
    "        x = self.bn4(x)\n",
    "        x = self.fc4(x)\n",
    "        x = F.sigmoid(x)\n",
    "\n",
    "        return x"
   ]
  },
  {
   "cell_type": "markdown",
   "id": "3334ea6d",
   "metadata": {},
   "source": [
    "### Учить будем на функцию потерь с кагла (log RMSE)"
   ]
  },
  {
   "cell_type": "code",
   "execution_count": null,
   "id": "501e8f8b",
   "metadata": {},
   "outputs": [],
   "source": [
    "def log_rmse(y_pred, y_true):\n",
    "    loss = torch.sqrt(torch.mean(\n",
    "        (torch.log(y_pred+1)-torch.log(y_true+1))**2)\n",
    "    )\n",
    "    return loss"
   ]
  },
  {
   "cell_type": "code",
   "execution_count": 37,
   "id": "7cc33040",
   "metadata": {},
   "outputs": [],
   "source": [
    "def trin_eval_loss(ev_dataloader, model):\n",
    "\n",
    "    size = len(ev_dataloader.dataset)\n",
    "    num_batches = len(ev_dataloader)\n",
    "    test_loss = 0\n",
    "\n",
    "    with torch.no_grad():\n",
    "        for X, y in ev_dataloader:\n",
    "            pred = model(X)\n",
    "            test_loss += log_rmse(pred, y)\n",
    "\n",
    "    test_loss /= num_batches\n",
    "\n",
    "    return test_loss"
   ]
  },
  {
   "cell_type": "code",
   "execution_count": 38,
   "id": "7f26b01d",
   "metadata": {},
   "outputs": [],
   "source": [
    "def train_proc(tr_dataloader, ev_dataloader, model, optimizer):\n",
    "\n",
    "    size = len(tr_dataloader.dataset)\n",
    "\n",
    "    for batch, (X, y) in enumerate(tr_dataloader):\n",
    "        y_pred = model(X)\n",
    "        loss = log_rmse(y_pred, y)\n",
    "\n",
    "        # Backpropagation\n",
    "        optimizer.zero_grad()\n",
    "        loss.backward()\n",
    "        optimizer.step()\n",
    "    \n",
    "    return trin_eval_loss(ev_dataloader, model)"
   ]
  },
  {
   "cell_type": "markdown",
   "id": "8150cf17",
   "metadata": {},
   "source": [
    "## Сравните сходимость Adam, RMSProp и SGD, сделайте вывод по качеству работы модели"
   ]
  },
  {
   "cell_type": "code",
   "execution_count": 41,
   "id": "86ea003f",
   "metadata": {},
   "outputs": [],
   "source": [
    "EPOCHES = 3\n",
    "LR = 0.01"
   ]
  },
  {
   "cell_type": "markdown",
   "id": "5a8e86ef",
   "metadata": {},
   "source": [
    "### SGD"
   ]
  },
  {
   "cell_type": "code",
   "execution_count": 42,
   "id": "d1d353c6",
   "metadata": {},
   "outputs": [],
   "source": [
    "model = FFNetwork(8, 5)"
   ]
  },
  {
   "cell_type": "code",
   "execution_count": 43,
   "id": "1392623a",
   "metadata": {},
   "outputs": [],
   "source": [
    "optimizer = torch.optim.Adam(model.parameters(), lr=LR)"
   ]
  },
  {
   "cell_type": "code",
   "execution_count": 44,
   "id": "0c4ea1ef",
   "metadata": {},
   "outputs": [
    {
     "name": "stderr",
     "output_type": "stream",
     "text": [
      "<timed exec>:1: TqdmDeprecationWarning: This function will be removed in tqdm==5.0.0\n",
      "Please use `tqdm.notebook.tqdm` instead of `tqdm.tqdm_notebook`\n"
     ]
    },
    {
     "data": {
      "application/vnd.jupyter.widget-view+json": {
       "model_id": "bcf3d522e59048c3bb0d78b3ac996fb2",
       "version_major": 2,
       "version_minor": 0
      },
      "text/plain": [
       "  0%|          | 0/3 [00:00<?, ?it/s]"
      ]
     },
     "metadata": {},
     "output_type": "display_data"
    },
    {
     "name": "stdout",
     "output_type": "stream",
     "text": [
      "Epoch 1\n",
      "-------------------------------\n",
      "Test loss: 0.013198159635066986\n",
      "Epoch 2\n",
      "-------------------------------\n",
      "Test loss: 0.013446185737848282\n",
      "Epoch 3\n",
      "-------------------------------\n",
      "Test loss: 0.013210585340857506\n",
      "CPU times: user 1h 2min 40s, sys: 27.7 s, total: 1h 3min 8s\n",
      "Wall time: 26min 49s\n"
     ]
    }
   ],
   "source": [
    "%%time\n",
    "for epoch in tqdm_notebook(range(EPOCHES)):\n",
    "    print(f'Epoch {epoch+1}\\n-------------------------------')\n",
    "\n",
    "    result = train_proc(train_loader,\n",
    "                             test_loader,\n",
    "                             model,\n",
    "                             optimizer\n",
    "                             )\n",
    "    print(f'Test loss: {result}')"
   ]
  },
  {
   "cell_type": "markdown",
   "id": "cd61cb14",
   "metadata": {},
   "source": [
    "### RMSProp"
   ]
  },
  {
   "cell_type": "code",
   "execution_count": 45,
   "id": "8f8e22ff",
   "metadata": {},
   "outputs": [],
   "source": [
    "model = FFNetwork(8, 5)"
   ]
  },
  {
   "cell_type": "code",
   "execution_count": 46,
   "id": "b3f36a9b",
   "metadata": {},
   "outputs": [],
   "source": [
    "optimizer = torch.optim.RMSprop(model.parameters(), lr=LR)"
   ]
  },
  {
   "cell_type": "code",
   "execution_count": 47,
   "id": "45ff0113",
   "metadata": {},
   "outputs": [
    {
     "name": "stderr",
     "output_type": "stream",
     "text": [
      "<timed exec>:1: TqdmDeprecationWarning: This function will be removed in tqdm==5.0.0\n",
      "Please use `tqdm.notebook.tqdm` instead of `tqdm.tqdm_notebook`\n"
     ]
    },
    {
     "data": {
      "application/vnd.jupyter.widget-view+json": {
       "model_id": "15036196fa2844ab8d23e5b12ddae0d7",
       "version_major": 2,
       "version_minor": 0
      },
      "text/plain": [
       "  0%|          | 0/3 [00:00<?, ?it/s]"
      ]
     },
     "metadata": {},
     "output_type": "display_data"
    },
    {
     "name": "stdout",
     "output_type": "stream",
     "text": [
      "Epoch 1\n",
      "-------------------------------\n",
      "Test loss: 0.013501441106200218\n",
      "Epoch 2\n",
      "-------------------------------\n",
      "Test loss: 0.014313501305878162\n",
      "Epoch 3\n",
      "-------------------------------\n",
      "Test loss: 0.014660804532468319\n",
      "CPU times: user 1h 3min 29s, sys: 28.1 s, total: 1h 3min 58s\n",
      "Wall time: 26min 53s\n"
     ]
    }
   ],
   "source": [
    "%%time\n",
    "for epoch in tqdm_notebook(range(EPOCHES)):\n",
    "    print(f'Epoch {epoch+1}\\n-------------------------------')\n",
    "\n",
    "    result = train_proc(train_loader,\n",
    "                             test_loader,\n",
    "                             model,\n",
    "                             optimizer\n",
    "                             )\n",
    "    print(f'Test loss: {result}')"
   ]
  },
  {
   "cell_type": "markdown",
   "id": "26860121",
   "metadata": {},
   "source": [
    "### Adam"
   ]
  },
  {
   "cell_type": "code",
   "execution_count": 48,
   "id": "4c42500d",
   "metadata": {},
   "outputs": [],
   "source": [
    "model = FFNetwork(8, 5)"
   ]
  },
  {
   "cell_type": "code",
   "execution_count": 49,
   "id": "6fba7b7f",
   "metadata": {},
   "outputs": [],
   "source": [
    "optimizer = torch.optim.Adam(model.parameters(), lr=LR)"
   ]
  },
  {
   "cell_type": "code",
   "execution_count": 50,
   "id": "94f17418",
   "metadata": {},
   "outputs": [
    {
     "name": "stderr",
     "output_type": "stream",
     "text": [
      "<timed exec>:1: TqdmDeprecationWarning: This function will be removed in tqdm==5.0.0\n",
      "Please use `tqdm.notebook.tqdm` instead of `tqdm.tqdm_notebook`\n"
     ]
    },
    {
     "data": {
      "application/vnd.jupyter.widget-view+json": {
       "model_id": "7c6d8daec7444023b4a1b65ef167231b",
       "version_major": 2,
       "version_minor": 0
      },
      "text/plain": [
       "  0%|          | 0/3 [00:00<?, ?it/s]"
      ]
     },
     "metadata": {},
     "output_type": "display_data"
    },
    {
     "name": "stdout",
     "output_type": "stream",
     "text": [
      "Epoch 1\n",
      "-------------------------------\n",
      "Test loss: 0.013111072592437267\n",
      "Epoch 2\n",
      "-------------------------------\n",
      "Test loss: 0.01341033075004816\n",
      "Epoch 3\n",
      "-------------------------------\n",
      "Test loss: 0.013045982457697392\n",
      "CPU times: user 1h 56s, sys: 27.4 s, total: 1h 1min 24s\n",
      "Wall time: 26min 19s\n"
     ]
    }
   ],
   "source": [
    "%%time\n",
    "for epoch in tqdm_notebook(range(EPOCHES)):\n",
    "    print(f'Epoch {epoch+1}\\n-------------------------------')\n",
    "\n",
    "    result = train_proc(train_loader,\n",
    "                             test_loader,\n",
    "                             model,\n",
    "                             optimizer\n",
    "                             )\n",
    "    print(f'Test loss: {result}')"
   ]
  },
  {
   "cell_type": "markdown",
   "id": "5e63e8fa",
   "metadata": {},
   "source": [
    "##### по полученным данным (не факт, что они реливантны, слишком маленький эксперимент) лучшим оказался метод Adam, как по сходимости, так и по качеству"
   ]
  }
 ],
 "metadata": {
  "kernelspec": {
   "display_name": "Python 3",
   "language": "python",
   "name": "python3"
  },
  "language_info": {
   "codemirror_mode": {
    "name": "ipython",
    "version": 3
   },
   "file_extension": ".py",
   "mimetype": "text/x-python",
   "name": "python",
   "nbconvert_exporter": "python",
   "pygments_lexer": "ipython3",
   "version": "3.8.8"
  }
 },
 "nbformat": 4,
 "nbformat_minor": 5
}
